{
 "cells": [
  {
   "cell_type": "code",
   "execution_count": 1,
   "id": "b84718d5-edc3-4400-ad51-a531f0c4be9e",
   "metadata": {},
   "outputs": [],
   "source": [
    "from sklearn.preprocessing import FunctionTransformer\n",
    "import numpy as np\n"
   ]
  },
  {
   "cell_type": "code",
   "execution_count": 4,
   "id": "c0def15d-197c-40c8-9350-8263688a10a6",
   "metadata": {},
   "outputs": [
    {
     "name": "stdout",
     "output_type": "stream",
     "text": [
      "Original data:\n",
      " [[    1    10   100]\n",
      " [ 1000  5000 10000]]\n",
      "Log Transformed Data\n",
      " [[0.69314718 2.39789527 4.61512052]\n",
      " [6.90875478 8.51739317 9.21044037]]\n"
     ]
    }
   ],
   "source": [
    "def log_transform(x):\n",
    "    return np.log1p(x)  # np.log1p(x) computes log(1 + x) to handle zeros.\n",
    "\n",
    "# Create a FunctionTransformer for the log transformation\n",
    "log_transformer=FunctionTransformer(log_transform)\n",
    "\n",
    "# Example dataset\n",
    "data=np.array([[1,10,100],[1000,5000,10000]])\n",
    "\n",
    "# Apply the log transformation\n",
    "log_transformed=log_transformer.fit_transform(data)\n",
    "\n",
    "# Print the results\n",
    "print('Original data:\\n', data)\n",
    "print(\"Log Transformed Data\\n\",log_transformed)\n",
    "\n"
   ]
  },
  {
   "cell_type": "code",
   "execution_count": null,
   "id": "ddb169fd-38fe-4b9f-935e-7beba702a2b7",
   "metadata": {},
   "outputs": [],
   "source": []
  }
 ],
 "metadata": {
  "kernelspec": {
   "display_name": "Python 3 (ipykernel)",
   "language": "python",
   "name": "python3"
  },
  "language_info": {
   "codemirror_mode": {
    "name": "ipython",
    "version": 3
   },
   "file_extension": ".py",
   "mimetype": "text/x-python",
   "name": "python",
   "nbconvert_exporter": "python",
   "pygments_lexer": "ipython3",
   "version": "3.12.4"
  }
 },
 "nbformat": 4,
 "nbformat_minor": 5
}

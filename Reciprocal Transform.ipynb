{
 "cells": [
  {
   "cell_type": "markdown",
   "id": "a443e5ed-fbab-4f53-8372-0ac06346d7dc",
   "metadata": {},
   "source": [
    "<h1 style='color:#DE006F'>USING NUMPY</h1>"
   ]
  },
  {
   "cell_type": "code",
   "execution_count": 2,
   "id": "4ad487ec-ae74-44f3-8cd4-8fabecaecc2a",
   "metadata": {},
   "outputs": [
    {
     "name": "stdout",
     "output_type": "stream",
     "text": [
      "Orginal Data\n",
      " [[1 2 3]\n",
      " [4 5 6]]\n",
      "\n",
      "Reciprocal Transformed Data:\n",
      " [[1.         0.5        0.33333333]\n",
      " [0.25       0.2        0.16666667]]\n"
     ]
    }
   ],
   "source": [
    "import numpy as np\n",
    "\n",
    "#EXAMPLE DATA\n",
    "data=np.array([[1,2,3],[4,5,6]])\n",
    "\n",
    "# Reciprocal transformation\n",
    "reciprocal_transformed=1/(data + 1e-9)\n",
    "\n",
    "print('Orginal Data\\n',data)\n",
    "print('\\nReciprocal Transformed Data:\\n',reciprocal_transformed)"
   ]
  },
  {
   "cell_type": "markdown",
   "id": "6d03e437-57de-40c1-9547-192e50080740",
   "metadata": {},
   "source": [
    "<h1 style='color:#DE006F'>Using Scikit-learn's FunctionTransformer</h1>"
   ]
  },
  {
   "cell_type": "code",
   "execution_count": 3,
   "id": "fdcedfcf-9158-4851-9f04-e7e170a5373f",
   "metadata": {},
   "outputs": [],
   "source": [
    "from sklearn.preprocessing import FunctionTransformer\n",
    "import numpy as np"
   ]
  },
  {
   "cell_type": "code",
   "execution_count": 7,
   "id": "a515a444-6d6c-4777-879f-4ccd911c305d",
   "metadata": {},
   "outputs": [
    {
     "name": "stdout",
     "output_type": "stream",
     "text": [
      "Orginal Data: \n",
      " [[1 2 3]\n",
      " [4 5 6]]\n",
      "\n",
      "Reciprocal Transformed Data: \n",
      " [[1.         0.5        0.33333333]\n",
      " [0.25       0.2        0.16666667]]\n"
     ]
    }
   ],
   "source": [
    "def reciprocal_transform(x):\n",
    "    return 1 / (x + 1e-9)   # Add a small constant to avoid division by zero\n",
    "\n",
    "reciprocal_transformer=FunctionTransformer(reciprocal_transform)\n",
    "\n",
    "data=np.array([[1,2,3],[4,5,6]])\n",
    "\n",
    "reciprocal_transformed=reciprocal_transformer.fit_transform(data)\n",
    "\n",
    "print('Orginal Data: \\n',data)\n",
    "print('\\nReciprocal Transformed Data: \\n', reciprocal_transformed)"
   ]
  }
 ],
 "metadata": {
  "kernelspec": {
   "display_name": "Python 3 (ipykernel)",
   "language": "python",
   "name": "python3"
  },
  "language_info": {
   "codemirror_mode": {
    "name": "ipython",
    "version": 3
   },
   "file_extension": ".py",
   "mimetype": "text/x-python",
   "name": "python",
   "nbconvert_exporter": "python",
   "pygments_lexer": "ipython3",
   "version": "3.12.4"
  }
 },
 "nbformat": 4,
 "nbformat_minor": 5
}
